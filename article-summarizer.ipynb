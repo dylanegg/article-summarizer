{
 "cells": [
  {
   "cell_type": "markdown",
   "metadata": {},
   "source": [
    "# Web Mining and Applied NLP (44-620)\n",
    "\n",
    "## Final Project: Article Summarizer\n",
    "\n",
    "### Student Name: Dylan Eggemeyer\n",
    "\n",
    "Perform the tasks described in the Markdown cells below.  When you have completed the assignment make sure your code cells have all been run (and have output beneath them) and ensure you have committed and pushed ALL of your changes to your assignment repository.\n",
    "\n",
    "You should bring in code from previous assignments to help you answer the questions below.\n",
    "\n",
    "Every question that requires you to write code will have a code cell underneath it; you may either write your entire solution in that cell or write it in a python file (`.py`), then import and run the appropriate code to answer the question."
   ]
  },
  {
   "cell_type": "markdown",
   "metadata": {},
   "source": [
    "### Question 1"
   ]
  },
  {
   "cell_type": "markdown",
   "metadata": {},
   "source": [
    "1. Find on the internet an article or blog post about a topic that interests you and you are able to get the text for using the technologies we have applied in the course.  Get the html for the article and store it in a file (which you must submit with your project)"
   ]
  },
  {
   "cell_type": "code",
   "execution_count": 2,
   "metadata": {},
   "outputs": [],
   "source": [
    "import pickle\n",
    "import requests\n",
    "\n",
    "article_page = requests.get('https://www.arrowheadpride.com/2022/11/8/23447290/chiefs-film-review-kadarius-toney-provides-glimpses-of-speed-and-athleticism')\n",
    "article_html = article_page.text\n",
    "\n",
    "with open('chiefs-article.pkl', 'wb') as f:\n",
    "    pickle.dump(article_page.text, f)\n"
   ]
  },
  {
   "cell_type": "markdown",
   "metadata": {},
   "source": [
    "### Question 2"
   ]
  },
  {
   "cell_type": "markdown",
   "metadata": {},
   "source": [
    "2. Read in your article's html source from the file you created in question 1 and do sentiment analysis on the article/post's text (use `.get_text()`).  Print the polarity score with an appropriate label.  Additionally print the number of sentences in the original article (with an appropriate label)"
   ]
  },
  {
   "cell_type": "code",
   "execution_count": 72,
   "metadata": {},
   "outputs": [
    {
     "name": "stdout",
     "output_type": "stream",
     "text": [
      "The polarity score of the article is: 0.17368301660674546\n",
      "The number of sentences in the original article is: 53\n"
     ]
    }
   ],
   "source": [
    "import spacy\n",
    "from spacytextblob.spacytextblob import SpacyTextBlob\n",
    "from bs4 import BeautifulSoup\n",
    "\n",
    "with open('chiefs-article.pkl', 'rb') as f:\n",
    "    article_html = pickle.load(f)\n",
    "\n",
    "parser = 'html.parser'\n",
    "soup = BeautifulSoup(article_html, parser)\n",
    "article_element = soup.find('article')\n",
    "article = nlp(article_element.get_text().lower())\n",
    "\n",
    "nlp = spacy.load('en_core_web_sm')\n",
    "nlp.add_pipe('spacytextblob')\n",
    "\n",
    "pol = article._.polarity\n",
    "\n",
    "sentences = list(article.sents)\n",
    "count = 0\n",
    "for sentence in sentences:\n",
    "    count += 1\n",
    "    \n",
    "print('The polarity score of the article is:',pol)\n",
    "print('The number of sentences in the original article is:',count)"
   ]
  },
  {
   "cell_type": "markdown",
   "metadata": {},
   "source": [
    "### Question 3"
   ]
  },
  {
   "cell_type": "markdown",
   "metadata": {},
   "source": [
    "3. Load the article text into a trained `spaCy` pipeline, and determine the 5 most frequent tokens (converted to lower case).  Print the common tokens with an appropriate label.  Additionally, print the tokens their frequencies (with appropriate labels)"
   ]
  },
  {
   "cell_type": "code",
   "execution_count": 47,
   "metadata": {},
   "outputs": [
    {
     "name": "stdout",
     "output_type": "stream",
     "text": [
      "The five most common tokens are: [('toney', 24), ('chiefs', 15), ('kansas', 9), ('city', 9), ('play', 9)]\n"
     ]
    }
   ],
   "source": [
    "from collections import Counter\n",
    "\n",
    "def we_care_about(token):\n",
    "    return not (token.is_space or token.is_punct or token.is_stop)\n",
    "\n",
    "interesting_tokens = [token for token in article if we_care_about(token)]\n",
    "word_freq = Counter(map(str,interesting_tokens))\n",
    "\n",
    "print('The five most common tokens are:', word_freq.most_common(5))"
   ]
  },
  {
   "cell_type": "markdown",
   "metadata": {},
   "source": [
    "### Question 4"
   ]
  },
  {
   "cell_type": "markdown",
   "metadata": {},
   "source": [
    "4. Load the article text into a trained `spaCy` pipeline, and determine the 5 most frequent lemmas (converted to lower case).  Print the common lemmas with an appropriate label.  Additionally, print the lemmas with their frequencies (with appropriate labels)."
   ]
  },
  {
   "cell_type": "code",
   "execution_count": 48,
   "metadata": {},
   "outputs": [
    {
     "name": "stdout",
     "output_type": "stream",
     "text": [
      "The five most common lemmas are: [('toney', 24), ('play', 17), ('chief', 15), ('receiver', 10), ('kansas', 9)]\n"
     ]
    }
   ],
   "source": [
    "interesting_lemmas = [token.lemma_ for token in article if we_care_about(token)]\n",
    "lemma_freq = Counter(interesting_lemmas)\n",
    "print('The five most common lemmas are:', lemma_freq.most_common(5))"
   ]
  },
  {
   "cell_type": "markdown",
   "metadata": {},
   "source": [
    "5. Make a list containing the scores (using tokens) of every sentence in the article, and plot a histogram with appropriate titles and axis labels of the scores. From your histogram, what seems to be the most common range of scores (put the answer in a comment after your code)?"
   ]
  },
  {
   "cell_type": "code",
   "execution_count": 61,
   "metadata": {},
   "outputs": [
    {
     "data": {
      "image/png": "[encoded data removed]",
      "text/plain": [
       "<Figure size 640x480 with 1 Axes>"
      ]
     },
     "metadata": {},
     "output_type": "display_data"
    }
   ],
   "source": [
    "def wordCount(sentence):\n",
    "    word_count = 0\n",
    "    for word in sentence:\n",
    "        if not(word.is_space or word.is_punct):\n",
    "            word_count += 1\n",
    "    return word_count\n",
    "\n",
    "def score_sentence_by_token(sentence, list_interesting_tokens):\n",
    "    if wordCount(sentence) == 0:\n",
    "        return 0\n",
    "    if len(list_interesting_tokens) == 0:\n",
    "        return 0\n",
    "    count = 0\n",
    "    for token in sentence:\n",
    "        if str(token).lower() in list_interesting_tokens:\n",
    "            count += 1\n",
    "    total = wordCount(sentence)\n",
    "    return count/total\n",
    "\n",
    "sentenceIndex = 0\n",
    "sentences = list(article.sents)\n",
    "token_score_list = list()\n",
    "top_tokens = list()\n",
    "\n",
    "for i in word_freq.most_common(5):\n",
    "    top_tokens.append(i[0])\n",
    "\n",
    "for i in range(len(sentences)):\n",
    "    token_score_list.append(score_sentence_by_token(sentences[i],top_tokens))\n",
    "\n",
    "import matplotlib.pyplot as plt\n",
    "\n",
    "x = token_score_list\n",
    "\n",
    "plt.hist(x)\n",
    "plt.xlabel(\"Scores\")\n",
    "plt.ylabel(\"Frequency\")\n",
    "plt.title(\"Sentence Score by Token\")\n",
    "plt.show()\n",
    "\n",
    "\n",
    "\n",
    "# The most common score seems to be 0"
   ]
  },
  {
   "cell_type": "markdown",
   "metadata": {},
   "source": [
    "6. Make a list containing the scores (using lemmas) of every sentence in the article, and plot a histogram with appropriate titles and axis labels of the scores.  From your histogram, what seems to be the most common range of scores (put the answer in a comment after your code)?"
   ]
  },
  {
   "cell_type": "code",
   "execution_count": 63,
   "metadata": {},
   "outputs": [
    {
     "data": {
      "image/png": "[encoded data removed]",
      "text/plain": [
       "<Figure size 640x480 with 1 Axes>"
      ]
     },
     "metadata": {},
     "output_type": "display_data"
    }
   ],
   "source": [
    "def wordCount(sentence):\n",
    "    word_count = 0\n",
    "    for word in sentence:\n",
    "        if not(word.is_space or word.is_punct):\n",
    "            word_count += 1\n",
    "    return word_count\n",
    "\n",
    "def score_sentence_by_lemma(sentence, list_interesting_lemmas):\n",
    "    if wordCount(sentence) == 0:\n",
    "        return 0\n",
    "    if len(list_interesting_lemmas) == 0:\n",
    "        return 0\n",
    "    count = 0\n",
    "    for token in sentence:\n",
    "        if str(token).lower() in list_interesting_lemmas:\n",
    "            count += 1\n",
    "    total = wordCount(sentence)\n",
    "    return count/total\n",
    "\n",
    "sentenceIndex = 0\n",
    "sentences = list(article.sents)\n",
    "lemma_score_list = list()\n",
    "top_lemmas = list()\n",
    "\n",
    "for i in lemma_freq.most_common(5):\n",
    "    top_lemmas.append(i[0])\n",
    "\n",
    "for i in range(len(sentences)):\n",
    "    lemma_score_list.append(score_sentence_by_lemma(sentences[i],top_lemmas))\n",
    "\n",
    "import matplotlib.pyplot as plt\n",
    "\n",
    "x = lemma_score_list\n",
    "\n",
    "plt.hist(x)\n",
    "plt.xlabel(\"Scores\")\n",
    "plt.ylabel(\"Frequency\")\n",
    "plt.title(\"Sentence Score by Lemma\")\n",
    "plt.show()\n",
    "\n",
    "\n",
    "\n",
    "# The most common score seems to be 0"
   ]
  },
  {
   "cell_type": "markdown",
   "metadata": {},
   "source": [
    "### Question 7"
   ]
  },
  {
   "cell_type": "markdown",
   "metadata": {},
   "source": [
    "7. Using the histograms from questions 5 and 6, decide a \"cutoff\" score for tokens and lemmas such that fewer than half the sentences would have a score greater than the cutoff score.  Record the scores in this Markdown cell\n",
    "\n",
    "* Cutoff Score (tokens): 0.055\n",
    "* Cutoff Score (lemmas): 0.045\n",
    "\n",
    "Feel free to change these scores as you generate your summaries.  Ideally, we're shooting for at least 6 sentences for our summary, but don't want more than 10 (these numbers are rough estimates; they depend on the length of your article)."
   ]
  },
  {
   "cell_type": "markdown",
   "metadata": {},
   "source": [
    "8. Create a summary of the article by going through every sentence in the article and adding it to an (initially) empty list if its score (based on tokens) is greater than the cutoff score you identified in question 8.  If your loop variable is named `sent`, you may find it easier to add `sent.text.strip()` to your list of sentences.  Print the summary (I would cleanly generate the summary text by `join`ing the strings in your list together with a space (`' '.join(sentence_list)`)."
   ]
  },
  {
   "cell_type": "code",
   "execution_count": 83,
   "metadata": {},
   "outputs": [
    {
     "name": "stdout",
     "output_type": "stream",
     "text": [
      "kansas city chiefs analysis\n",
      "\n",
      "\n",
      "\n",
      "\n",
      "\n",
      "film review: kadarius toney provides glimpses of why chiefs traded for him\n",
      "\n",
      "in sunday’s small sample kansas city’s shifty new wide receiver displayed some rare quickness. by\n",
      "      \n",
      "bryanstewart\n",
      "\n",
      "\n",
      "\n",
      "  nov  8, 2022,  2:00pm cst\n",
      "\n",
      "\n",
      "\n",
      "\n",
      "\n",
      "\n",
      "\n",
      "      / \n",
      "new\n",
      "\n",
      "\n",
      "\n",
      "\n",
      "\n",
      "\n",
      "\n",
      "\n",
      "\n",
      "\n",
      "\n",
      "share this story\n",
      "\n",
      "\n",
      "\n",
      "\n",
      "share this on facebook\n",
      "\n",
      "\n",
      "\n",
      "\n",
      "\n",
      "share this on twitter\n",
      "\n",
      "\n",
      "\n",
      "\n",
      "\n",
      "\n",
      "\n",
      "\n",
      "share\n",
      "all sharing options\n",
      "\n",
      "\n",
      "\n",
      "\n",
      "\n",
      "\n",
      "share\n",
      "all sharing options for:\n",
      "film review: kadarius toney provides glimpses of why chiefs traded for him\n",
      "\n",
      "\n",
      "\n",
      "\n",
      "\n",
      "\n",
      "\n",
      "\n",
      "\n",
      "\n",
      "\n",
      "\n",
      "reddit\n",
      "\n",
      "\n",
      "\n",
      "\n",
      "\n",
      "\n",
      "\n",
      "pocket\n",
      "\n",
      "\n",
      "\n",
      "\n",
      "\n",
      "\n",
      "\n",
      "\n",
      "\n",
      "flipboard\n",
      "\n",
      "\n",
      "\n",
      "\n",
      "\n",
      "email\n",
      "\n",
      "\n",
      "\n",
      "\n",
      "\n",
      "\n",
      "\n",
      "\n",
      "\n",
      "\n",
      "\n",
      "\n",
      "\n",
      "\n",
      "\n",
      "\n",
      "\n",
      "\n",
      "\n",
      "\n",
      "denny medley-usa today sports\n",
      "\n",
      "\n",
      "\n",
      "\n",
      "before entering their week 8 bye, the kansas city chiefs traded two 2023 draft picks — a compensatory third-rounder and a sixth-rounder — for former new york giants wide receiver kadarius toney, whom new york had selected 20th overall in the 2021 nfl draft. during week 9’s sunday night football matchup against the tennessee titans, kansas city’s offensive coaches wasted no time getting toney on the field — albeit in a very limited role,  with just nine offensive snaps.\n",
      "let’s see what kind of initial impression toney was able to make. toney’s chiefs debut mostly consisted of short-to-intermediate out-breaking routes — with just a couple plays that were designed to actually get the football into his hands. in his biggest highlight snap, head coach andy reid called a play that matched toney against a linebacker in one-on-one coverage. kadarius toney shaking a lb unlike we've seen since sammy watkins' prime chiefs days.can't leave that on the bench terribly often as the weeks go on. toney can be just one more receiver that kansas city can use to counter against murky, clouded zone defenses near the red zone. the scramble drill\n",
      "another way toney’s foot quickness and instincts shine is when plays break down. toney thread:there were a couple different plays that showed he really is so quick to transition into the \"second play\". pic.twitter.com/gwu9zwyxsf— bryan stewart (@bryanstewart_) november 8, 2022\n",
      "\n",
      "\n",
      "\n",
      "receivers who are as good in a scramble drill as they are within normal play structures are incredibly valuable to an offense like kansas city’s. just as we saw with former chiefs receiver sammy watkins, it might be the postseason before we see toney make a big play out of structure — but with increased playing time, he will have more opportunities to create those huge plays when mahomes breaks the pocket. luckily the play wasn't designed for him to be targeted or this could've ended badly. fortunately, the play design is set up for the ball to go to running back jerrick mckinnon. if mahomes had tossed the ball to toney, the cornerback might have undercut the receiver for an interception. obj basically gets a play off bc of it. pic.twitter.com/jpmivlegis— bryan stewart (@bryanstewart_) november 8, 2022\n",
      "\n",
      "\n",
      "\n",
      "seeing his technique in this play — striking a very good pass-rushing defensive end at the perfect time in the right spot of his body — demonstrates toney’s intelligence. lastly, it’s important to discuss toney’s linear foot speed. it could create opportunities for toney to get into coverage holes more quickly than most — or it could simply pull defenders in his direction, allowing the chiefs’ other receiving targets more space to operate. the bottom line\n",
      "sunday night’s game once again showed us how the kansas city offense can sometimes be vulnerable when an opposing defense marries really good, physical coverage with a dominant defensive line. 5 things to watch as the chiefs visit the bengals in an afc championship rematch\n",
      "kansas city has revenge on their minds, remembering the two losses that combined to end their 2021 campaign. chiefs-bengals: 5 questions with the enemy\n",
      "we welcome cincy jungle for answers to five questions about the cincinnati bengals before sunday’s week 13 matchup\n",
      "\n",
      "\n",
      "\n",
      "\n",
      "\n",
      "\n",
      "\n",
      "\n",
      "\n",
      "\n",
      "\n",
      "\n",
      "arrowheadlines: andy reid unimpressed with justin reid’s comments\n",
      "chiefs headlines for saturday, december 3\n",
      "\n",
      "\n",
      "\n",
      "\n",
      "\n",
      "\n",
      "\n",
      "\n",
      "\n",
      "\n",
      "\n",
      "\n",
      "chiefs vs. bengals: how to watch, game time, tv schedule, streaming and more\n",
      "everything you need to know to watch the chiefs take on the bengals in week 13.\n"
     ]
    }
   ],
   "source": [
    "sentence_list = list()\n",
    "\n",
    "for sent in list(article.sents):\n",
    "    if score_sentence_by_token(sent, top_tokens) >= .055:\n",
    "        sentence_list.append(sent.text.strip())\n",
    "token_summary = ' '.join(sentence_list)\n",
    "print(token_summary)"
   ]
  },
  {
   "cell_type": "markdown",
   "metadata": {},
   "source": [
    "### Question 9"
   ]
  },
  {
   "cell_type": "markdown",
   "metadata": {},
   "source": [
    "9. Print the polarity score of your summary you generated with the token scores (with an appropriate label). Additionally, print the number of sentences in the summarized article."
   ]
  },
  {
   "cell_type": "code",
   "execution_count": 84,
   "metadata": {},
   "outputs": [
    {
     "name": "stdout",
     "output_type": "stream",
     "text": [
      "The polarity score of the article is: 0.19199548393992838\n",
      "The number of sentences in the original article is: 21\n"
     ]
    }
   ],
   "source": [
    "pol = nlp(token_summary)._.polarity\n",
    "\n",
    "sentences = list(nlp(token_summary).sents)\n",
    "count = 0\n",
    "for sentence in sentences:\n",
    "    count += 1\n",
    "    \n",
    "print('The polarity score of the article is:',pol)\n",
    "print('The number of sentences in the original article is:',count)"
   ]
  },
  {
   "cell_type": "markdown",
   "metadata": {},
   "source": [
    "### Question 10"
   ]
  },
  {
   "cell_type": "markdown",
   "metadata": {},
   "source": [
    "10. Create a summary of the article by going through every sentence in the article and adding it to an (initially) empty list if its score (based on lemmas) is greater than the cutoff score you identified in question 8.  If your loop variable is named `sent`, you may find it easier to add `sent.text.strip()` to your list of sentences.  Print the summary (I would cleanly generate the summary text by `join`ing the strings in your list together with a space (`' '.join(sentence_list)`)."
   ]
  },
  {
   "cell_type": "code",
   "execution_count": 90,
   "metadata": {},
   "outputs": [
    {
     "name": "stdout",
     "output_type": "stream",
     "text": [
      "kansas city chiefs analysis\n",
      "\n",
      "\n",
      "\n",
      "\n",
      "\n",
      "film review: kadarius toney provides glimpses of why chiefs traded for him\n",
      "\n",
      "in sunday’s small sample kansas city’s shifty new wide receiver displayed some rare quickness. during week 9’s sunday night football matchup against the tennessee titans, kansas city’s offensive coaches wasted no time getting toney on the field — albeit in a very limited role,  with just nine offensive snaps.\n",
      "let’s see what kind of initial impression toney was able to make. in his biggest highlight snap, head coach andy reid called a play that matched toney against a linebacker in one-on-one coverage. toney can be just one more receiver that kansas city can use to counter against murky, clouded zone defenses near the red zone. the scramble drill\n",
      "another way toney’s foot quickness and instincts shine is when plays break down. toney thread:there were a couple different plays that showed he really is so quick to transition into the \"second play\". pic.twitter.com/gwu9zwyxsf— bryan stewart (@bryanstewart_) november 8, 2022\n",
      "\n",
      "\n",
      "\n",
      "receivers who are as good in a scramble drill as they are within normal play structures are incredibly valuable to an offense like kansas city’s. just as we saw with former chiefs receiver sammy watkins, it might be the postseason before we see toney make a big play out of structure — but with increased playing time, he will have more opportunities to create those huge plays when mahomes breaks the pocket. luckily the play wasn't designed for him to be targeted or this could've ended badly. fortunately, the play design is set up for the ball to go to running back jerrick mckinnon. if mahomes had tossed the ball to toney, the cornerback might have undercut the receiver for an interception. even though he is smaller than many wideouts, toney even managed to show explosive strength as an additional blocker. obj basically gets a play off bc of it. pic.twitter.com/jpmivlegis— bryan stewart (@bryanstewart_) november 8, 2022\n",
      "\n",
      "\n",
      "\n",
      "seeing his technique in this play — striking a very good pass-rushing defensive end at the perfect time in the right spot of his body — demonstrates toney’s intelligence. lastly, it’s important to discuss toney’s linear foot speed. this is why it will be very interesting to see if the coaching staff tries to add more to toney’s plate.\n"
     ]
    }
   ],
   "source": [
    "sentence_list = list()\n",
    "\n",
    "for sent in list(article.sents):\n",
    "    if score_sentence_by_lemma(sent, top_lemmas) >= .045:\n",
    "        sentence_list.append(sent.text.strip())\n",
    "lemma_summary = ' '.join(sentence_list)\n",
    "print(lemma_summary)"
   ]
  },
  {
   "cell_type": "markdown",
   "metadata": {},
   "source": [
    "### Question 11"
   ]
  },
  {
   "cell_type": "markdown",
   "metadata": {},
   "source": [
    "11. Print the polarity score of your summary you generated with the lemma scores (with an appropriate label). Additionally, print the number of sentences in the summarized article."
   ]
  },
  {
   "cell_type": "code",
   "execution_count": 91,
   "metadata": {},
   "outputs": [
    {
     "name": "stdout",
     "output_type": "stream",
     "text": [
      "The polarity score of the article is: 0.26945366362033035\n",
      "The number of sentences in the original article is: 16\n"
     ]
    }
   ],
   "source": [
    "pol = nlp(lemma_summary)._.polarity\n",
    "\n",
    "sentences = list(nlp(lemma_summary).sents)\n",
    "count = 0\n",
    "for sentence in sentences:\n",
    "    count += 1\n",
    "    \n",
    "print('The polarity score of the article is:',pol)\n",
    "print('The number of sentences in the original article is:',count)"
   ]
  },
  {
   "cell_type": "code",
   "execution_count": null,
   "metadata": {},
   "outputs": [],
   "source": [
    "The polarity score of the token summary increased but not by much. The polarity score of the lemma summary increased by a lot. I think this "
   ]
  },
  {
   "cell_type": "markdown",
   "metadata": {},
   "source": [
    "12.  Compare your polarity scores of your summaries to the polarity scores of the initial article.  Is there a difference?  Why do you think that may or may not be?.  Answer in this Markdown cell.  "
   ]
  },
  {
   "cell_type": "markdown",
   "metadata": {},
   "source": [
    "The polarity score of the token summary increased but not by much. The polarity score of the lemma summary increased by a lot. I think this could be because the article summaries are more focused on the main content of the article and those could include less of the descriptive words for the receiver."
   ]
  },
  {
   "cell_type": "markdown",
   "metadata": {},
   "source": [
    "13. Based on your reading of the original article, which summary do you think is better (if there's a difference).  Why do you think this might be?"
   ]
  },
  {
   "cell_type": "markdown",
   "metadata": {},
   "source": [
    "I think the summary based on lemmas was the better option. It reduced a lot of noise in the article section but was able to get across the main points of the article. I think it is because the lemmas pull in the most important root words and while sentence structure may call for different version of a word, it always grabs the most important words in the article."
   ]
  },
  {
   "cell_type": "code",
   "execution_count": null,
   "metadata": {},
   "outputs": [],
   "source": []
  }
 ],
 "metadata": {
  "kernelspec": {
   "display_name": "Python 3",
   "language": "python",
   "name": "python3"
  },
  "language_info": {
   "codemirror_mode": {
    "name": "ipython",
    "version": 3
   },
   "file_extension": ".py",
   "mimetype": "text/x-python",
   "name": "python",
   "nbconvert_exporter": "python",
   "pygments_lexer": "ipython3",
   "version": "3.8.11"
  }
 },
 "nbformat": 4,
 "nbformat_minor": 4
}
